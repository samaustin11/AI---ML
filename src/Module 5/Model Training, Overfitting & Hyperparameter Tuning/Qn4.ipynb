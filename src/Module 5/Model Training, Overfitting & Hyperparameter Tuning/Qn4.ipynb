{
 "cells": [
  {
   "cell_type": "markdown",
   "metadata": {},
   "source": [
    "Title: Cross-Validation"
   ]
  },
  {
   "cell_type": "markdown",
   "metadata": {},
   "source": [
    "\n",
    "Task 1: K-Fold Cross-Validation for House Prices<br>\n",
    "Apply K-Fold Cross-Validation (K=5) to check variability in performance."
   ]
  },
  {
   "cell_type": "code",
   "execution_count": 1,
   "metadata": {},
   "outputs": [
    {
     "name": "stdout",
     "output_type": "stream",
     "text": [
      "RMSE for each fold: [29648.76834006 30865.48245028 32038.15198684 29659.46707505\n",
      " 28348.50076044]\n",
      "Average RMSE: 30112.07\n",
      "Standard Deviation of RMSE: 1249.57\n"
     ]
    }
   ],
   "source": [
    "from sklearn.model_selection import cross_val_score, KFold\n",
    "from sklearn.linear_model import LinearRegression\n",
    "import numpy as np\n",
    "import pandas as pd\n",
    "\n",
    "# Sample house price dataset\n",
    "np.random.seed(42)\n",
    "size = 1000\n",
    "sqft = np.random.randint(500, 4000, size=size)\n",
    "beds = np.random.randint(1, 6, size=size)\n",
    "price = sqft * 200 + beds * 10000 + np.random.normal(0, 30000, size=size)\n",
    "df = pd.DataFrame({'Sqft': sqft, 'Beds': beds, 'Price': price})\n",
    "\n",
    "X = df[['Sqft', 'Beds']]\n",
    "y = df['Price']\n",
    "\n",
    "# Initialize model\n",
    "model = LinearRegression()\n",
    "\n",
    "# K-Fold Cross-Validation (K=5)\n",
    "kf = KFold(n_splits=5, shuffle=True, random_state=42)\n",
    "\n",
    "# Perform cross-validation and get RMSE for each fold\n",
    "scores = cross_val_score(model, X, y, cv=kf, scoring='neg_mean_squared_error')\n",
    "rmse_scores = np.sqrt(-scores)\n",
    "\n",
    "# Output variability in performance\n",
    "print(f\"RMSE for each fold: {rmse_scores}\")\n",
    "print(f\"Average RMSE: {rmse_scores.mean():.2f}\")\n",
    "print(f\"Standard Deviation of RMSE: {rmse_scores.std():.2f}\")\n"
   ]
  },
  {
   "cell_type": "markdown",
   "metadata": {},
   "source": [
    "Task 2: Stratified K-Fold for Imbalanced Churn Dataset<br>\n",
    "Use Stratified K-Fold to ensure each class is represented."
   ]
  },
  {
   "cell_type": "code",
   "execution_count": 2,
   "metadata": {},
   "outputs": [
    {
     "name": "stdout",
     "output_type": "stream",
     "text": [
      "Accuracy for each fold: [0.64, 0.585, 0.64, 0.695, 0.66]\n",
      "Average Accuracy: 0.64\n",
      "Standard Deviation of Accuracy: 0.04\n"
     ]
    }
   ],
   "source": [
    "from sklearn.model_selection import StratifiedKFold\n",
    "from sklearn.ensemble import RandomForestClassifier\n",
    "from sklearn.metrics import accuracy_score\n",
    "import numpy as np\n",
    "import pandas as pd\n",
    "\n",
    "# Sample customer churn dataset (imbalanced)\n",
    "np.random.seed(42)\n",
    "size = 1000\n",
    "tenure = np.random.randint(1, 72, size=size)\n",
    "charges = np.random.uniform(20, 120, size=size)\n",
    "total = tenure * charges + np.random.normal(0, 50, size=size)\n",
    "churn = np.random.choice([0, 1], size=size, p=[0.7, 0.3])\n",
    "\n",
    "df = pd.DataFrame({'Tenure': tenure, 'Charges': charges, 'Total': total, 'Churn': churn})\n",
    "\n",
    "X = df[['Tenure', 'Charges', 'Total']]\n",
    "y = df['Churn']\n",
    "\n",
    "# Initialize Stratified K-Fold\n",
    "skf = StratifiedKFold(n_splits=5, shuffle=True, random_state=42)\n",
    "\n",
    "# Initialize Random Forest model\n",
    "model = RandomForestClassifier(random_state=42)\n",
    "\n",
    "# Store accuracy scores\n",
    "accuracy_scores = []\n",
    "\n",
    "# Perform Stratified K-Fold Cross-Validation\n",
    "for train_index, test_index in skf.split(X, y):\n",
    "    X_train, X_test = X.iloc[train_index], X.iloc[test_index]\n",
    "    y_train, y_test = y.iloc[train_index], y.iloc[test_index]\n",
    "\n",
    "    model.fit(X_train, y_train)\n",
    "    y_pred = model.predict(X_test)\n",
    "\n",
    "    acc = accuracy_score(y_test, y_pred)\n",
    "    accuracy_scores.append(acc)\n",
    "\n",
    "# Output accuracy for each fold\n",
    "print(f\"Accuracy for each fold: {accuracy_scores}\")\n",
    "print(f\"Average Accuracy: {np.mean(accuracy_scores):.2f}\")\n",
    "print(f\"Standard Deviation of Accuracy: {np.std(accuracy_scores):.2f}\")"
   ]
  },
  {
   "cell_type": "markdown",
   "metadata": {},
   "source": [
    "Task 3: Leave-One-Out Cross-Validation for Iris<br>\n",
    "Use LOOCV to assess model prediction for the Iris dataset."
   ]
  },
  {
   "cell_type": "code",
   "execution_count": 3,
   "metadata": {},
   "outputs": [
    {
     "name": "stdout",
     "output_type": "stream",
     "text": [
      "Accuracy for each fold: [1.0, 1.0, 1.0, 1.0, 1.0, 1.0, 1.0, 1.0, 1.0, 1.0, 1.0, 1.0, 1.0, 1.0, 1.0, 1.0, 1.0, 1.0, 1.0, 1.0, 1.0, 1.0, 1.0, 1.0, 1.0, 1.0, 1.0, 1.0, 1.0, 1.0, 1.0, 1.0, 1.0, 1.0, 1.0, 1.0, 1.0, 1.0, 1.0, 1.0, 1.0, 1.0, 1.0, 1.0, 1.0, 1.0, 1.0, 1.0, 1.0, 1.0, 1.0, 1.0, 1.0, 1.0, 1.0, 1.0, 1.0, 0.0, 1.0, 1.0, 1.0, 1.0, 1.0, 1.0, 1.0, 1.0, 1.0, 1.0, 1.0, 1.0, 0.0, 1.0, 1.0, 1.0, 1.0, 1.0, 1.0, 0.0, 1.0, 1.0, 1.0, 1.0, 1.0, 0.0, 1.0, 1.0, 1.0, 1.0, 1.0, 1.0, 1.0, 1.0, 1.0, 1.0, 1.0, 1.0, 1.0, 1.0, 1.0, 1.0, 1.0, 1.0, 1.0, 1.0, 1.0, 1.0, 0.0, 1.0, 1.0, 1.0, 1.0, 1.0, 1.0, 1.0, 1.0, 1.0, 1.0, 1.0, 1.0, 0.0, 1.0, 1.0, 1.0, 1.0, 1.0, 1.0, 1.0, 1.0, 1.0, 0.0, 1.0, 1.0, 1.0, 0.0, 1.0, 1.0, 1.0, 1.0, 0.0, 1.0, 1.0, 1.0, 1.0, 1.0, 1.0, 1.0, 1.0, 1.0, 1.0, 1.0]\n",
      "Average Accuracy: 0.94\n",
      "Standard Deviation of Accuracy: 0.24\n"
     ]
    }
   ],
   "source": [
    "from sklearn.model_selection import LeaveOneOut\n",
    "from sklearn.datasets import load_iris\n",
    "from sklearn.tree import DecisionTreeClassifier\n",
    "from sklearn.metrics import accuracy_score\n",
    "import numpy as np\n",
    "\n",
    "# Load Iris dataset\n",
    "iris = load_iris()\n",
    "X = iris.data\n",
    "y = iris.target\n",
    "\n",
    "# Initialize Leave-One-Out Cross-Validation\n",
    "loocv = LeaveOneOut()\n",
    "\n",
    "# Initialize Decision Tree model\n",
    "model = DecisionTreeClassifier(random_state=42)\n",
    "\n",
    "# Store accuracy scores\n",
    "accuracy_scores = []\n",
    "\n",
    "# Perform Leave-One-Out Cross-Validation\n",
    "for train_index, test_index in loocv.split(X, y):\n",
    "    X_train, X_test = X[train_index], X[test_index]\n",
    "    y_train, y_test = y[train_index], y[test_index]\n",
    "\n",
    "    model.fit(X_train, y_train)\n",
    "    y_pred = model.predict(X_test)\n",
    "\n",
    "    acc = accuracy_score(y_test, y_pred)\n",
    "    accuracy_scores.append(acc)\n",
    "\n",
    "# Output accuracy for each fold\n",
    "print(f\"Accuracy for each fold: {accuracy_scores}\")\n",
    "print(f\"Average Accuracy: {np.mean(accuracy_scores):.2f}\")\n",
    "print(f\"Standard Deviation of Accuracy: {np.std(accuracy_scores):.2f}\")"
   ]
  }
 ],
 "metadata": {
  "kernelspec": {
   "display_name": "Python 3",
   "language": "python",
   "name": "python3"
  },
  "language_info": {
   "codemirror_mode": {
    "name": "ipython",
    "version": 3
   },
   "file_extension": ".py",
   "mimetype": "text/x-python",
   "name": "python",
   "nbconvert_exporter": "python",
   "pygments_lexer": "ipython3",
   "version": "3.10.12"
  }
 },
 "nbformat": 4,
 "nbformat_minor": 2
}
