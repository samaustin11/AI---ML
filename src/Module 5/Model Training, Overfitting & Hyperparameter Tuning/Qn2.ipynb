{
 "cells": [
  {
   "cell_type": "markdown",
   "metadata": {},
   "source": [
    "Title: Model Selection"
   ]
  },
  {
   "cell_type": "markdown",
   "metadata": {},
   "source": [
    "Task 1: Linear Regression on House Prices<br>\n",
    "Use Linear Regression and evaluate its performance on the validation set."
   ]
  },
  {
   "cell_type": "code",
   "execution_count": 1,
   "metadata": {},
   "outputs": [
    {
     "name": "stdout",
     "output_type": "stream",
     "text": [
      "Validation MSE: 652899266.40\n"
     ]
    }
   ],
   "source": [
    "import numpy as np\n",
    "import pandas as pd\n",
    "from sklearn.model_selection import train_test_split\n",
    "from sklearn.linear_model import LinearRegression\n",
    "from sklearn.metrics import mean_squared_error\n",
    "\n",
    "# Create sample house price dataset\n",
    "np.random.seed(42)\n",
    "data_size = 1000\n",
    "square_feet = np.random.randint(500, 4000, size=data_size)\n",
    "bedrooms = np.random.randint(1, 6, size=data_size)\n",
    "price = square_feet * 200 + bedrooms * 15000 + np.random.normal(0, 25000, data_size)\n",
    "\n",
    "df = pd.DataFrame({\n",
    "    'SquareFeet': square_feet,\n",
    "        'Bedrooms': bedrooms,\n",
    "            'Price': price\n",
    "            })\n",
    "\n",
    "\n",
    "# Split data\n",
    "X = df[['SquareFeet', 'Bedrooms']]\n",
    "y = df['Price']\n",
    "X_train, X_temp, y_train, y_temp = train_test_split(X, y, test_size=0.3, random_state=42)\n",
    "X_val, X_test, y_val, y_test = train_test_split(X_temp, y_temp, test_size=0.5, random_state=42)\n",
    "\n",
    "# Train model\n",
    "model = LinearRegression()\n",
    "model.fit(X_train, y_train)\n",
    "\n",
    "# Evaluate on validation set\n",
    "val_preds = model.predict(X_val)\n",
    "val_mse = mean_squared_error(y_val, val_preds)\n",
    "\n",
    "print(f\"Validation MSE: {val_mse:.2f}\")"
   ]
  },
  {
   "cell_type": "markdown",
   "metadata": {},
   "source": [
    "Task 2: Decision Tree Classifier on Iris Dataset<br>\n",
    "Train a Decision Tree model and evaluate its performance on validation data."
   ]
  },
  {
   "cell_type": "code",
   "execution_count": 2,
   "metadata": {},
   "outputs": [
    {
     "name": "stdout",
     "output_type": "stream",
     "text": [
      "Validation Accuracy: 0.95\n"
     ]
    }
   ],
   "source": [
    "from sklearn.datasets import load_iris\n",
    "from sklearn.tree import DecisionTreeClassifier\n",
    "from sklearn.model_selection import train_test_split\n",
    "from sklearn.metrics import accuracy_score\n",
    "\n",
    "# Load dataset\n",
    "data = load_iris()\n",
    "X = data.data\n",
    "y = data.target\n",
    "\n",
    "# Split data\n",
    "X_train, X_temp, y_train, y_temp = train_test_split(X, y, test_size=0.3, random_state=42, stratify=y)\n",
    "X_val, X_test, y_val, y_test = train_test_split(X_temp, y_temp, test_size=0.5, random_state=42, stratify=y_temp)\n",
    "\n",
    "# Train model\n",
    "model = DecisionTreeClassifier(random_state=42)\n",
    "model.fit(X_train, y_train)\n",
    "\n",
    "# Evaluate on validation set\n",
    "val_preds = model.predict(X_val)\n",
    "val_acc = accuracy_score(y_val, val_preds)\n",
    "\n",
    "print(f\"Validation Accuracy: {val_acc:.2f}\")\n"
   ]
  },
  {
   "cell_type": "markdown",
   "metadata": {},
   "source": [
    "Task 3:  Random Forest on Customer Churn<br>\n",
    "Apply Random Forest and assess its accuracy on the validation set."
   ]
  },
  {
   "cell_type": "code",
   "execution_count": 3,
   "metadata": {},
   "outputs": [
    {
     "name": "stdout",
     "output_type": "stream",
     "text": [
      "Validation Accuracy: 0.66\n"
     ]
    }
   ],
   "source": [
    "import numpy as np\n",
    "import pandas as pd\n",
    "from sklearn.model_selection import train_test_split\n",
    "from sklearn.ensemble import RandomForestClassifier\n",
    "from sklearn.metrics import accuracy_score\n",
    "\n",
    "# Create sample churn dataset\n",
    "np.random.seed(42)\n",
    "data_size = 1000\n",
    "tenure = np.random.randint(1, 72, size=data_size)\n",
    "monthly_charges = np.random.uniform(20, 120, size=data_size)\n",
    "total_charges = tenure * monthly_charges + np.random.normal(0, 50, size=data_size)\n",
    "churn = np.random.choice([0, 1], size=data_size, p=[0.7, 0.3])\n",
    "\n",
    "df = pd.DataFrame({\n",
    "    'Tenure': tenure,\n",
    "        'MonthlyCharges': monthly_charges,\n",
    "            'TotalCharges': total_charges,\n",
    "                'Churn': churn\n",
    "                })\n",
    "\n",
    "# Features and target\n",
    "X = df[['Tenure', 'MonthlyCharges', 'TotalCharges']]\n",
    "y = df['Churn']\n",
    "\n",
    "# Split data\n",
    "X_train, X_temp, y_train, y_temp = train_test_split(X, y, test_size=0.3, random_state=42, stratify=y)\n",
    "X_val, X_test, y_val, y_test = train_test_split(X_temp, y_temp, test_size=0.5, random_state=42, stratify=y_temp)\n",
    "\n",
    "# Train model\n",
    "model = RandomForestClassifier(random_state=42)\n",
    "model.fit(X_train, y_train)\n",
    "\n",
    "# Evaluate on validation set\n",
    "val_preds = model.predict(X_val)\n",
    "val_acc = accuracy_score(y_val, val_preds)\n",
    "\n",
    "print(f\"Validation Accuracy: {val_acc:.2f}\")"
   ]
  }
 ],
 "metadata": {
  "kernelspec": {
   "display_name": "Python 3",
   "language": "python",
   "name": "python3"
  },
  "language_info": {
   "codemirror_mode": {
    "name": "ipython",
    "version": 3
   },
   "file_extension": ".py",
   "mimetype": "text/x-python",
   "name": "python",
   "nbconvert_exporter": "python",
   "pygments_lexer": "ipython3",
   "version": "3.10.12"
  }
 },
 "nbformat": 4,
 "nbformat_minor": 2
}
