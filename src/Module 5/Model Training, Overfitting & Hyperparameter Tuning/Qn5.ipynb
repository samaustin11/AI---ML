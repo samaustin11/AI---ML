{
 "cells": [
  {
   "cell_type": "markdown",
   "metadata": {},
   "source": [
    "Title: Regularization Techniques"
   ]
  },
  {
   "cell_type": "markdown",
   "metadata": {},
   "source": [
    "Task 1: Ridge Regression on House Prices<br>\n",
    "Apply Ridge regularization to the Linear Regression model."
   ]
  },
  {
   "cell_type": "code",
   "execution_count": 1,
   "metadata": {},
   "outputs": [
    {
     "name": "stdout",
     "output_type": "stream",
     "text": [
      "RMSE for Ridge Regression: 30526.24\n"
     ]
    }
   ],
   "source": [
    "from sklearn.linear_model import Ridge\n",
    "from sklearn.model_selection import train_test_split\n",
    "from sklearn.metrics import mean_squared_error\n",
    "import numpy as np\n",
    "import pandas as pd\n",
    "\n",
    "# Sample house price dataset\n",
    "np.random.seed(42)\n",
    "size = 1000\n",
    "sqft = np.random.randint(500, 4000, size=size)\n",
    "beds = np.random.randint(1, 6, size=size)\n",
    "price = sqft * 200 + beds * 10000 + np.random.normal(0, 30000, size=size)\n",
    "df = pd.DataFrame({'Sqft': sqft, 'Beds': beds, 'Price': price})\n",
    "\n",
    "X = df[['Sqft', 'Beds']]\n",
    "y = df['Price']\n",
    "\n",
    "# Split data into train and test sets\n",
    "X_train, X_test, y_train, y_test = train_test_split(X, y, test_size=0.3, random_state=42)\n",
    "\n",
    "# Initialize Ridge regression model\n",
    "ridge_model = Ridge(alpha=1.0)\n",
    "\n",
    "# Train the model\n",
    "ridge_model.fit(X_train, y_train)\n",
    "\n",
    "# Make predictions\n",
    "y_pred = ridge_model.predict(X_test)\n",
    "\n",
    "# Evaluate model performance\n",
    "rmse = np.sqrt(mean_squared_error(y_test, y_pred))\n",
    "print(f\"RMSE for Ridge Regression: {rmse:.2f}\")\n"
   ]
  },
  {
   "cell_type": "markdown",
   "metadata": {},
   "source": [
    "Task 2: Lasso Regression for Feature Selection<br>\n",
    "Use Lasso to select important features in the housing data."
   ]
  },
  {
   "cell_type": "code",
   "execution_count": 2,
   "metadata": {},
   "outputs": [
    {
     "name": "stdout",
     "output_type": "stream",
     "text": [
      "Important features selected by Lasso: Index(['Sqft', 'Beds', 'Age'], dtype='object')\n"
     ]
    }
   ],
   "source": [
    "from sklearn.linear_model import Lasso\n",
    "from sklearn.model_selection import train_test_split\n",
    "import numpy as np\n",
    "import pandas as pd\n",
    "\n",
    "# Sample housing dataset\n",
    "np.random.seed(42)\n",
    "size = 1000\n",
    "sqft = np.random.randint(500, 4000, size=size)\n",
    "beds = np.random.randint(1, 6, size=size)\n",
    "age = np.random.randint(0, 50, size=size)\n",
    "price = sqft * 200 + beds * 10000 + age * 1500 + np.random.normal(0, 30000, size=size)\n",
    "df = pd.DataFrame({'Sqft': sqft, 'Beds': beds, 'Age': age, 'Price': price})\n",
    "\n",
    "X = df[['Sqft', 'Beds', 'Age']]\n",
    "y = df['Price']\n",
    "\n",
    "# Split data into train and test sets\n",
    "X_train, X_test, y_train, y_test = train_test_split(X, y, test_size=0.3, random_state=42)\n",
    "\n",
    "# Initialize Lasso regression model\n",
    "lasso_model = Lasso(alpha=0.1)\n",
    "\n",
    "# Train the model\n",
    "lasso_model.fit(X_train, y_train)\n",
    "\n",
    "# Get the coefficients of the features\n",
    "coefficients = lasso_model.coef_\n",
    "\n",
    "# Identify important features (non-zero coefficients)\n",
    "important_features = X.columns[coefficients != 0]\n",
    "\n",
    "print(f\"Important features selected by Lasso: {important_features}\")\n"
   ]
  },
  {
   "cell_type": "markdown",
   "metadata": {},
   "source": [
    "Task 3: ElasticNet for Customer Churn<br>\n",
    "Implement ElasticNet to balance between Ridge and Lasso."
   ]
  },
  {
   "cell_type": "code",
   "execution_count": 3,
   "metadata": {},
   "outputs": [
    {
     "name": "stdout",
     "output_type": "stream",
     "text": [
      "RMSE for ElasticNet: 0.45\n"
     ]
    }
   ],
   "source": [
    "from sklearn.linear_model import ElasticNet\n",
    "from sklearn.model_selection import train_test_split\n",
    "from sklearn.metrics import mean_squared_error\n",
    "import numpy as np\n",
    "import pandas as pd\n",
    "\n",
    "# Sample customer churn dataset (assuming 'TotalCharges' and 'Tenure' are features)\n",
    "np.random.seed(42)\n",
    "size = 1000\n",
    "tenure = np.random.randint(1, 72, size=size)\n",
    "charges = np.random.uniform(20, 120, size=size)\n",
    "total = tenure * charges + np.random.normal(0, 50, size=size)\n",
    "churn = np.random.choice([0, 1], size=size, p=[0.7, 0.3])\n",
    "\n",
    "df = pd.DataFrame({'Tenure': tenure, 'Charges': charges, 'Total': total, 'Churn': churn})\n",
    "\n",
    "X = df[['Tenure', 'Charges', 'Total']]\n",
    "y = df['Churn']\n",
    "\n",
    "# Split data into train and test sets\n",
    "X_train, X_test, y_train, y_test = train_test_split(X, y, test_size=0.3, random_state=42)\n",
    "\n",
    "# Initialize ElasticNet regression model\n",
    "elasticnet_model = ElasticNet(alpha=0.1, l1_ratio=0.5)  # l1_ratio=0.5 means balancing between Ridge and Lasso\n",
    "\n",
    "# Train the model\n",
    "elasticnet_model.fit(X_train, y_train)\n",
    "\n",
    "# Make predictions\n",
    "y_pred = elasticnet_model.predict(X_test)\n",
    "\n",
    "# Evaluate model performance (since churn is binary, we use mean squared error)\n",
    "mse = mean_squared_error(y_test, y_pred)\n",
    "rmse = np.sqrt(mse)\n",
    "\n",
    "print(f\"RMSE for ElasticNet: {rmse:.2f}\")\n"
   ]
  }
 ],
 "metadata": {
  "kernelspec": {
   "display_name": "Python 3",
   "language": "python",
   "name": "python3"
  },
  "language_info": {
   "codemirror_mode": {
    "name": "ipython",
    "version": 3
   },
   "file_extension": ".py",
   "mimetype": "text/x-python",
   "name": "python",
   "nbconvert_exporter": "python",
   "pygments_lexer": "ipython3",
   "version": "3.10.12"
  }
 },
 "nbformat": 4,
 "nbformat_minor": 2
}
