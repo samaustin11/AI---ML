{
 "cells": [
  {
   "cell_type": "markdown",
   "metadata": {},
   "source": [
    "Title: Types of Supervised Learning: Regression & Classification"
   ]
  },
  {
   "cell_type": "markdown",
   "metadata": {},
   "source": [
    "\n",
    "Task 1: Categorize predicting temperatures (regression) vs. identifying animal species in photo(classification)."
   ]
  },
  {
   "cell_type": "code",
   "execution_count": 1,
   "metadata": {},
   "outputs": [
    {
     "name": "stdout",
     "output_type": "stream",
     "text": [
      "Regression Predictions (Temperatures): [35. 33. 29.]\n",
      "Classification Predictions (Animal Species): ['Dog' 'Cat']\n"
     ]
    }
   ],
   "source": [
    "from sklearn.linear_model import LinearRegression\n",
    "from sklearn.model_selection import train_test_split\n",
    "import numpy as np\n",
    "import pandas as pd\n",
    "\n",
    "# Task 1: Predicting Temperatures (Regression)\n",
    "# Sample temperature data (Features: Day of year, Historical Temp, etc.)\n",
    "data_regression = {\n",
    "    'Day_of_Year': [1, 2, 3, 4, 5, 6, 7, 8, 9, 10],\n",
    "        'Historical_Temperature': [30, 32, 35, 33, 31, 28, 29, 30, 34, 36],\n",
    "            'Predicted_Temperature': [31, 33, 36, 34, 32, 29, 30, 31, 35, 37]\n",
    "            }\n",
    "df_regression = pd.DataFrame(data_regression)\n",
    "X_regression = df_regression[['Day_of_Year', 'Historical_Temperature']]\n",
    "y_regression = df_regression['Predicted_Temperature']\n",
    "\n",
    "# Split data into training and testing sets for regression task\n",
    "X_train_reg, X_test_reg, y_train_reg, y_test_reg = train_test_split(X_regression, y_regression, test_size=0.3, random_state=42)\n",
    "\n",
    "# Create and train linear regression model\n",
    "model_reg = LinearRegression()\n",
    "model_reg.fit(X_train_reg, y_train_reg)\n",
    "\n",
    "# Predict on test data\n",
    "y_pred_reg = model_reg.predict(X_test_reg)\n",
    "\n",
    "# Task 2: Identifying Animal Species in a Photo (Classification)\n",
    "# Sample data for classification (Features: pixel intensities, Output: Animal type)\n",
    "data_classification = {\n",
    "    'Pixel_1': [120, 150, 130, 160, 140],\n",
    "        'Pixel_2': [90, 80, 100, 85, 95],\n",
    "            'Pixel_3': [200, 220, 210, 240, 230],\n",
    "                'Animal_Type': ['Cat', 'Dog', 'Cat', 'Dog', 'Cat']\n",
    "                }\n",
    "\n",
    "df_classification = pd.DataFrame(data_classification)\n",
    "X_classification = df_classification[['Pixel_1', 'Pixel_2', 'Pixel_3']]\n",
    "y_classification = df_classification['Animal_Type']\n",
    "\n",
    "# Split data into training and testing sets for classification task\n",
    "from sklearn.model_selection import train_test_split\n",
    "X_train_class, X_test_class, y_train_class, y_test_class = train_test_split(X_classification, y_classification, test_size=0.3, random_state=42)\n",
    "\n",
    "# Create and train a classification model (Logistic Regression)\n",
    "from sklearn.linear_model import LogisticRegression\n",
    "model_class = LogisticRegression()\n",
    "model_class.fit(X_train_class, y_train_class)\n",
    "\n",
    "# Predict on test data\n",
    "y_pred_class = model_class.predict(X_test_class)\n",
    "\n",
    "# Print results\n",
    "print(\"Regression Predictions (Temperatures):\", y_pred_reg)\n",
    "print(\"Classification Predictions (Animal Species):\", y_pred_class)\n",
    "\n",
    "\n"
   ]
  },
  {
   "cell_type": "markdown",
   "metadata": {},
   "source": [
    "Task 2: Discuss and decide if predicting GPA based on study hours (regression)"
   ]
  },
  {
   "cell_type": "code",
   "execution_count": 2,
   "metadata": {},
   "outputs": [
    {
     "name": "stdout",
     "output_type": "stream",
     "text": [
      "Predictions on test data (GPA): [4.19084158 2.92079208 3.64653465]\n",
      "Actual GPA values on test data: [4.1 3.  3.8]\n"
     ]
    }
   ],
   "source": [
    "import numpy as np\n",
    "import pandas as pd\n",
    "from sklearn.linear_model import LinearRegression\n",
    "from sklearn.model_selection import train_test_split\n",
    "\n",
    "# Task 2: Predicting GPA based on Study Hours (Regression)\n",
    "# Sample dataset with Study Hours and GPA\n",
    "data_regression = {\n",
    "    'Study_Hours': [5, 10, 15, 20, 25, 30, 35, 40, 45, 50],\n",
    "        'GPA': [2.5, 3.0, 3.1, 3.5, 3.6, 3.8, 3.9, 4.0, 4.1, 4.2]\n",
    "        }\n",
    "\n",
    "# Convert data to pandas DataFrame\n",
    "df_regression = pd.DataFrame(data_regression)\n",
    "\n",
    "# Define inputs (features) and output (target)\n",
    "X_regression = df_regression[['Study_Hours']]  # Input feature (study hours)\n",
    "y_regression = df_regression['GPA']  # Output target (GPA)\n",
    "\n",
    "# Split data into training and testing sets\n",
    "X_train, X_test, y_train, y_test = train_test_split(X_regression, y_regression, test_size=0.3, random_state=42)\n",
    "\n",
    "# Create and train a linear regression model\n",
    "model_regression = LinearRegression()\n",
    "model_regression.fit(X_train, y_train)\n",
    "\n",
    "# Make predictions on test data\n",
    "y_pred_regression = model_regression.predict(X_test)\n",
    "\n",
    "# Print predictions and evaluate the model\n",
    "print(\"Predictions on test data (GPA):\", y_pred_regression)\n",
    "print(\"Actual GPA values on test data:\", y_test.values)"
   ]
  },
  {
   "cell_type": "markdown",
   "metadata": {},
   "source": [
    "\n",
    "Task 3: Evaluate whether a model for predicting customer churn is classification or regression."
   ]
  },
  {
   "cell_type": "code",
   "execution_count": 3,
   "metadata": {},
   "outputs": [
    {
     "name": "stdout",
     "output_type": "stream",
     "text": [
      "Predictions on test data (Churn): [1 1 0]\n",
      "Actual values on test data (Churn): [0 0 0]\n",
      "Accuracy of the model: 33.33%\n"
     ]
    }
   ],
   "source": [
    "from sklearn.model_selection import train_test_split\n",
    "from sklearn.linear_model import LogisticRegression\n",
    "from sklearn.metrics import accuracy_score\n",
    "import pandas as pd\n",
    "\n",
    "# Task 3: Predicting Customer Churn (Classification vs Regression)\n",
    "# Sample data for predicting customer churn (1 = Churned, 0 = Stayed)\n",
    "data_classification = {\n",
    "    'Age': [25, 32, 45, 38, 28, 40, 60, 35, 50, 42],\n",
    "        'Monthly_Spend': [100, 200, 150, 180, 120, 130, 250, 160, 190, 170],\n",
    "            'Customer_Satisfaction': [3, 4, 2, 4, 3, 5, 1, 3, 4, 2],\n",
    "                'Churn': [1, 0, 0, 1, 0, 0, 1, 0, 0, 1]  # Target: 1 means churned, 0 means stayed\n",
    "                }\n",
    "\n",
    "# Convert data to pandas DataFrame\n",
    "df_classification = pd.DataFrame(data_classification)\n",
    "\n",
    "# Define inputs (features) and output (target)\n",
    "X_classification = df_classification[['Age', 'Monthly_Spend', 'Customer_Satisfaction']]  # Features\n",
    "y_classification = df_classification['Churn']  # Output (target)\n",
    "\n",
    "# Split data into training and testing sets\n",
    "X_train_class, X_test_class, y_train_class, y_test_class = train_test_split(X_classification, y_classification, test_size=0.3, random_state=42)\n",
    "\n",
    "# Create and train a logistic regression model (classification)\n",
    "model_classification = LogisticRegression()\n",
    "model_classification.fit(X_train_class, y_train_class)\n",
    "\n",
    "# Make predictions on test data\n",
    "y_pred_classification = model_classification.predict(X_test_class)\n",
    "\n",
    "# Evaluate the model\n",
    "accuracy = accuracy_score(y_test_class, y_pred_classification)\n",
    "\n",
    "# Print results\n",
    "print(\"Predictions on test data (Churn):\", y_pred_classification)\n",
    "print(\"Actual values on test data (Churn):\", y_test_class.values)\n",
    "print(f\"Accuracy of the model: {accuracy * 100:.2f}%\")"
   ]
  }
 ],
 "metadata": {
  "kernelspec": {
   "display_name": "Python 3",
   "language": "python",
   "name": "python3"
  },
  "language_info": {
   "codemirror_mode": {
    "name": "ipython",
    "version": 3
   },
   "file_extension": ".py",
   "mimetype": "text/x-python",
   "name": "python",
   "nbconvert_exporter": "python",
   "pygments_lexer": "ipython3",
   "version": "3.10.12"
  }
 },
 "nbformat": 4,
 "nbformat_minor": 2
}
