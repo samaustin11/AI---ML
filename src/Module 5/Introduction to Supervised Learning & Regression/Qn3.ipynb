{
 "cells": [
  {
   "cell_type": "markdown",
   "metadata": {},
   "source": [
    "Title: Regression Models"
   ]
  },
  {
   "cell_type": "markdown",
   "metadata": {},
   "source": [
    "Linear Regression (Simple & Multiple)"
   ]
  },
  {
   "cell_type": "markdown",
   "metadata": {},
   "source": [
    "Task 1: Differentiate between a labeled dataset of image classifications and an unlabeled dataset for clustering customer segments."
   ]
  },
  {
   "cell_type": "code",
   "execution_count": 1,
   "metadata": {},
   "outputs": [
    {
     "data": {
      "image/png": "[encoded data removed]",
      "text/plain": [
       "<Figure size 640x480 with 1 Axes>"
      ]
     },
     "metadata": {},
     "output_type": "display_data"
    },
    {
     "name": "stdout",
     "output_type": "stream",
     "text": [
      "Labeled Dataset (Image Classification) Predictions: ['Cat' 'Dog' 'Cat' 'Dog' 'Cat']\n",
      "Unlabeled Dataset (Customer Segments Clustering): [2 2 0 0 0 0 1 1 1 1]\n"
     ]
    }
   ],
   "source": [
    "from sklearn.cluster import KMeans\n",
    "from sklearn.linear_model import LinearRegression\n",
    "from sklearn.model_selection import train_test_split\n",
    "import numpy as np\n",
    "import pandas as pd\n",
    "import matplotlib.pyplot as plt\n",
    "\n",
    "# Task 1: Differentiate between a labeled dataset of image classifications and an unlabeled dataset for clustering customer segments\n",
    "\n",
    "# Labeled Dataset (Image Classifications)\n",
    "# Example: Features might represent pixel intensities, output labels (classes) represent image categories (e.g., cat, dog)\n",
    "data_labeled = {\n",
    "    'Pixel_1': [120, 150, 130, 160, 140],\n",
    "        'Pixel_2': [90, 80, 100, 85, 95],\n",
    "            'Pixel_3': [200, 220, 210, 240, 230],\n",
    "                'Label': ['Cat', 'Dog', 'Cat', 'Dog', 'Cat']\n",
    "                }\n",
    "df_labeled = pd.DataFrame(data_labeled)\n",
    "\n",
    "# Inputs (features) and output (target) for image classification\n",
    "X_labeled = df_labeled[['Pixel_1', 'Pixel_2', 'Pixel_3']]  # Features\n",
    "y_labeled = df_labeled['Label']  # Labels (target)\n",
    "\n",
    "# Train a simple classifier for image classification (Logistic Regression)\n",
    "from sklearn.linear_model import LogisticRegression\n",
    "model_labeled = LogisticRegression()\n",
    "model_labeled.fit(X_labeled, y_labeled)\n",
    "\n",
    "# Unlabeled Dataset (Clustering Customer Segments)\n",
    "# Example: Customer data without labels, we perform clustering based on features\n",
    "data_unlabeled = {\n",
    "    'Annual_Income': [50, 60, 70, 80, 90, 100, 110, 120, 130, 140],\n",
    "        'Spending_Score': [10, 20, 30, 40, 50, 60, 70, 80, 90, 100]\n",
    "        }\n",
    "df_unlabeled = pd.DataFrame(data_unlabeled)\n",
    "\n",
    "# Inputs (features) for customer segmentation\n",
    "X_unlabeled = df_unlabeled[['Annual_Income', 'Spending_Score']]\n",
    "\n",
    "# Perform KMeans clustering to find customer segments\n",
    "kmeans = KMeans(n_clusters=3, random_state=42)\n",
    "clusters = kmeans.fit_predict(X_unlabeled)\n",
    "\n",
    "# Plot the customer segments (clusters)\n",
    "plt.scatter(X_unlabeled['Annual_Income'], X_unlabeled['Spending_Score'], c=clusters, cmap='viridis')\n",
    "plt.xlabel('Annual Income')\n",
    "plt.ylabel('Spending Score')\n",
    "plt.title('Customer Segments (Clustering)')\n",
    "plt.show()\n",
    "\n",
    "# Print model results\n",
    "print(\"Labeled Dataset (Image Classification) Predictions:\", model_labeled.predict(X_labeled))\n",
    "print(\"Unlabeled Dataset (Customer Segments Clustering):\", clusters)"
   ]
  },
  {
   "cell_type": "markdown",
   "metadata": {},
   "source": [
    "Task 2: Examine a problem statement and determine which learning type is applicable.<br>"
   ]
  },
  {
   "cell_type": "code",
   "execution_count": 2,
   "metadata": {},
   "outputs": [
    {
     "name": "stdout",
     "output_type": "stream",
     "text": [
      "Regression Model - Predictions for House Prices: [453269.23076923 515192.30769231]\n",
      "Clustering Model - Customer Segments: [2 2 0 0 0 0 1 1 1 1]\n"
     ]
    }
   ],
   "source": [
    "from sklearn.linear_model import LinearRegression\n",
    "from sklearn.cluster import KMeans\n",
    "from sklearn.model_selection import train_test_split\n",
    "import pandas as pd\n",
    "import numpy as np\n",
    "\n",
    "# Task 2: Examine a problem statement and determine which learning type is applicable\n",
    "\n",
    "# Problem Statement 1: Predicting house prices based on square footage and number of bedrooms.\n",
    "# This is a regression problem because the goal is to predict a continuous value (house price).\n",
    "# We'll apply linear regression.\n",
    "\n",
    "# Sample data for predicting house prices (Regression)\n",
    "data_regression = {\n",
    "    'Square_Feet': [1500, 1800, 2500, 2200, 2000, 2100],\n",
    "        'Num_Bedrooms': [3, 4, 3, 4, 3, 4],\n",
    "            'Price': [400000, 500000, 600000, 550000, 520000, 580000]  # Target: house price\n",
    "            }\n",
    "df_regression = pd.DataFrame(data_regression)\n",
    "\n",
    "# Define inputs (features) and output (target)\n",
    "X_regression = df_regression[['Square_Feet', 'Num_Bedrooms']]  # Features\n",
    "y_regression = df_regression['Price']  # Target (house price)\n",
    "\n",
    "# Split data into training and testing sets\n",
    "X_train, X_test, y_train, y_test = train_test_split(X_regression, y_regression, test_size=0.3, random_state=42)\n",
    "\n",
    "# Create and train a linear regression model (Regression)\n",
    "model_regression = LinearRegression()\n",
    "model_regression.fit(X_train, y_train)\n",
    "\n",
    "# Problem Statement 2: Grouping customers into different segments based on income and spending.\n",
    "# This is a clustering problem, as the goal is to find groups in the data based on features like income and spending score.\n",
    "# We'll apply KMeans clustering.\n",
    "\n",
    "# Sample data for customer segmentation (Clustering)\n",
    "data_clustering = {\n",
    "    'Income': [30, 40, 50, 60, 70, 80, 90, 100, 110, 120],\n",
    "        'Spending_Score': [10, 20, 30, 40, 50, 60, 70, 80, 90, 100]\n",
    "        }\n",
    "\n",
    "df_clustering = pd.DataFrame(data_clustering)\n",
    "\n",
    "# Define inputs (features) for customer segmentation\n",
    "X_clustering = df_clustering[['Income', 'Spending_Score']]\n",
    "\n",
    "# Perform KMeans clustering to group customers\n",
    "kmeans = KMeans(n_clusters=3, random_state=42)\n",
    "clusters = kmeans.fit_predict(X_clustering)\n",
    "\n",
    "# Print results\n",
    "print(\"Regression Model - Predictions for House Prices:\", model_regression.predict(X_test))\n",
    "print(\"Clustering Model - Customer Segments:\", clusters)\n"
   ]
  },
  {
   "cell_type": "markdown",
   "metadata": {},
   "source": [
    "Task 3: Identify whether facial recognition systems use supervised or unsupervised learning and justify."
   ]
  },
  {
   "cell_type": "code",
   "execution_count": 3,
   "metadata": {},
   "outputs": [
    {
     "name": "stdout",
     "output_type": "stream",
     "text": [
      "Predicted identities: ['Alice' 'Alice' 'Alice']\n"
     ]
    }
   ],
   "source": [
    "import numpy as np\n",
    "import pandas as pd\n",
    "from sklearn.model_selection import train_test_split\n",
    "from sklearn.svm import SVC  # Support Vector Classifier for simplicity\n",
    "\n",
    "# Sample dataset of facial features (e.g., pixel intensity, facial landmarks)\n",
    "data = {\n",
    "    'Feature_1': [0.5, 0.7, 0.6, 0.8, 0.9, 0.3, 0.4, 0.6, 0.8, 0.7],\n",
    "        'Feature_2': [0.2, 0.4, 0.3, 0.6, 0.7, 0.1, 0.3, 0.5, 0.6, 0.4],\n",
    "            'Person': ['Alice', 'Bob', 'Alice', 'Bob', 'Alice', 'Bob', 'Alice', 'Bob', 'Alice', 'Bob']\n",
    "            }\n",
    "\n",
    "df = pd.DataFrame(data)\n",
    "\n",
    "# Features (facial data) and target (person identity)\n",
    "X = df[['Feature_1', 'Feature_2']]\n",
    "y = df['Person']\n",
    "\n",
    "# Split data into training and testing sets\n",
    "X_train, X_test, y_train, y_test = train_test_split(X, y, test_size=0.3, random_state=42)\n",
    "\n",
    "# Create and train a classifier (Supervised Learning)\n",
    "model = SVC(kernel='linear')\n",
    "model.fit(X_train, y_train)\n",
    "\n",
    "# Predict the identity of a test image\n",
    "y_pred = model.predict(X_test)\n",
    "\n",
    "# Output the predictions and accuracy\n",
    "print(\"Predicted identities:\", y_pred)\n"
   ]
  }
 ],
 "metadata": {
  "kernelspec": {
   "display_name": "Python 3",
   "language": "python",
   "name": "python3"
  },
  "language_info": {
   "codemirror_mode": {
    "name": "ipython",
    "version": 3
   },
   "file_extension": ".py",
   "mimetype": "text/x-python",
   "name": "python",
   "nbconvert_exporter": "python",
   "pygments_lexer": "ipython3",
   "version": "3.10.12"
  }
 },
 "nbformat": 4,
 "nbformat_minor": 2
}
