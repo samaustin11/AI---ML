{
 "cells": [
  {
   "cell_type": "markdown",
   "metadata": {},
   "source": [
    "Pivot Tables & Advanced Aggregations<br>\n",
    "Objective: Utilize pivot tables for complex aggregation tasks."
   ]
  },
  {
   "cell_type": "markdown",
   "metadata": {},
   "source": [
    "Task 1: Creating a Basic Pivot Table<br>\n",
    "Task: Create a pivot table that shows the total sales for each 'category' across 'years'.<br>\n",
    "Steps:<br>\n",
    "19. Use pandas pivot_table() function.<br>\n",
    "20. Set index='year' and columns='category' .<br>\n",
    "21. Define the value parameter as 'sales' and aggregation function as np.sum ."
   ]
  },
  {
   "cell_type": "code",
   "execution_count": 1,
   "metadata": {},
   "outputs": [
    {
     "name": "stdout",
     "output_type": "stream",
     "text": [
      "Pivot Table showing Total Sales for Each Category across Years:\n",
      "category      A      B\n",
      "year                  \n",
      "2021      100.0  200.0\n",
      "2022      150.0  300.0\n",
      "2023      250.0    NaN\n"
     ]
    },
    {
     "name": "stderr",
     "output_type": "stream",
     "text": [
      "/tmp/ipykernel_5750/494583448.py:15: FutureWarning: The provided callable <function sum at 0x708e08f47520> is currently using DataFrameGroupBy.sum. In a future version of pandas, the provided callable will be used directly. To keep current behavior pass the string \"sum\" instead.\n",
      "  pivot_table = pd.pivot_table(df,\n"
     ]
    }
   ],
   "source": [
    "import pandas as pd\n",
    "import numpy as np\n",
    "\n",
    "# Sample dataset (replace this with actual data loading if available)\n",
    "data = {\n",
    "    'year': [2021, 2021, 2022, 2022, 2023],\n",
    "        'category': ['A', 'B', 'A', 'B', 'A'],\n",
    "            'sales': [100, 200, 150, 300, 250],\n",
    "                'profit': [10, 20, 15, 30, 25],\n",
    "                    'quantity': [1, 2, 1, 3, 2]\n",
    "                    }\n",
    "df = pd.DataFrame(data)\n",
    "\n",
    "# Step 19: Create a pivot table\n",
    "pivot_table = pd.pivot_table(df, \n",
    "                            values='sales', \n",
    "                            index='year', \n",
    "                            columns='category', \n",
    "                            aggfunc=np.sum)\n",
    "# Step 21: Display the pivot table\n",
    "print(\"Pivot Table showing Total Sales for Each Category across Years:\")\n",
    "print(pivot_table)\n"
   ]
  },
  {
   "cell_type": "markdown",
   "metadata": {},
   "source": [
    "Task 2: Pivot Table with Multiple Aggregations<br>\n",
    "\n",
    "Task: Generate a pivot table with both mean and max of 'profit' for 'category' each month.<br>\n",
    "Steps:<br>\n",
    "22. Create a pivot table.<br>\n",
    "23. Use aggfunc=['mean', 'max'] .<br>\n",
    "24. Analyze the pivot table output."
   ]
  },
  {
   "cell_type": "code",
   "execution_count": 2,
   "metadata": {},
   "outputs": [
    {
     "name": "stdout",
     "output_type": "stream",
     "text": [
      "Pivot Table showing Mean and Max of Profit for Each Category per Month:\n",
      "          mean         max      \n",
      "category     A     B     A     B\n",
      "month                           \n",
      "February  15.0  30.0  15.0  30.0\n",
      "January   10.0  20.0  10.0  20.0\n",
      "March     25.0   NaN  25.0   NaN\n"
     ]
    }
   ],
   "source": [
    "import pandas as pd\n",
    "import numpy as np\n",
    "\n",
    "# Sample dataset (replace this with actual data loading if available)\n",
    "data = {\n",
    "    'month': ['January', 'January', 'February', 'February', 'March'],\n",
    "        'category': ['A', 'B', 'A', 'B', 'A'],\n",
    "            'sales': [100, 200, 150, 300, 250],\n",
    "                'profit': [10, 20, 15, 30, 25],\n",
    "                    'quantity': [1, 2, 1, 3, 2]\n",
    "                    }\n",
    "df = pd.DataFrame(data)\n",
    "\n",
    "# Step 22: Create a pivot table with multiple aggregations\n",
    "pivot_table = pd.pivot_table(df,\n",
    "                            values='profit', \n",
    "                            index='month', \n",
    "                            columns='category', \n",
    "                            aggfunc=['mean', 'max'])\n",
    "# Step 24: Display the pivot table and analyze the result\n",
    "print(\"Pivot Table showing Mean and Max of Profit for Each Category per Month:\")\n",
    "print(pivot_table)\n",
    "                             "
   ]
  },
  {
   "cell_type": "markdown",
   "metadata": {},
   "source": [
    "Task 3: Advanced Pivot Table with Margins<br>\n",
    "\n",
    "Task: Create a pivot table that includes subtotals for each 'region' and 'category'.<br>\n",
    "Steps:<br>\n",
    "25. Use pivot_table() with margins=True .<br>\n",
    "26. Set the index and columns appropriately.<br>\n",
    "27. Validate subtotal correctness by summing manually."
   ]
  },
  {
   "cell_type": "code",
   "execution_count": 3,
   "metadata": {},
   "outputs": [
    {
     "name": "stdout",
     "output_type": "stream",
     "text": [
      "Pivot Table with Subtotals for Each Region and Category:\n",
      "category      A      B   All\n",
      "region                      \n",
      "East      150.0    NaN   150\n",
      "North     350.0    NaN   350\n",
      "South       NaN  200.0   200\n",
      "West        NaN  300.0   300\n",
      "All       500.0  500.0  1000\n",
      "\n",
      "Manual Calculation of Subtotals (Sales per Region and Category):\n",
      "category      A      B\n",
      "region                \n",
      "East      150.0    NaN\n",
      "North     350.0    NaN\n",
      "South       NaN  200.0\n",
      "West        NaN  300.0\n"
     ]
    },
    {
     "name": "stderr",
     "output_type": "stream",
     "text": [
      "/tmp/ipykernel_5750/423796831.py:15: FutureWarning: The provided callable <function sum at 0x708e08f47520> is currently using DataFrameGroupBy.sum. In a future version of pandas, the provided callable will be used directly. To keep current behavior pass the string \"sum\" instead.\n",
      "  pivot_table = pd.pivot_table(df,\n",
      "/tmp/ipykernel_5750/423796831.py:15: FutureWarning: The provided callable <function sum at 0x708e08f47520> is currently using DataFrameGroupBy.sum. In a future version of pandas, the provided callable will be used directly. To keep current behavior pass the string \"sum\" instead.\n",
      "  pivot_table = pd.pivot_table(df,\n",
      "/tmp/ipykernel_5750/423796831.py:15: FutureWarning: The provided callable <function sum at 0x708e08f47520> is currently using DataFrameGroupBy.sum. In a future version of pandas, the provided callable will be used directly. To keep current behavior pass the string \"sum\" instead.\n",
      "  pivot_table = pd.pivot_table(df,\n"
     ]
    }
   ],
   "source": [
    "import pandas as pd\n",
    "import numpy as np\n",
    "\n",
    "# Sample dataset (replace this with actual data loading if available)\n",
    "data = {\n",
    "    'region': ['North', 'South', 'East', 'West', 'North'],\n",
    "        'category': ['A', 'B', 'A', 'B', 'A'],\n",
    "            'sales': [100, 200, 150, 300, 250],\n",
    "                'profit': [10, 20, 15, 30, 25],\n",
    "                    'quantity': [1, 2, 1, 3, 2]\n",
    "                    }\n",
    "df = pd.DataFrame(data)\n",
    "\n",
    "# Step 25: Create a pivot table with subtotals for 'region' and 'category'\n",
    "pivot_table = pd.pivot_table(df, \n",
    "                            values='sales', \n",
    "                            index='region', \n",
    "                            columns='category', \n",
    "                            aggfunc=np.sum, \n",
    "                            margins=True)\n",
    "# Step 27: Display the pivot table and validate subtotal correctness\n",
    "print(\"Pivot Table with Subtotals for Each Region and Category:\")\n",
    "print(pivot_table)\n",
    "\n",
    "# Manual Validation of Subtotals\n",
    "manual_subtotals = df.groupby(['region', 'category'])['sales'].sum().unstack()\n",
    "print(\"\\nManual Calculation of Subtotals (Sales per Region and Category):\")\n",
    "print(manual_subtotals)"
   ]
  }
 ],
 "metadata": {
  "kernelspec": {
   "display_name": "Python 3",
   "language": "python",
   "name": "python3"
  },
  "language_info": {
   "codemirror_mode": {
    "name": "ipython",
    "version": 3
   },
   "file_extension": ".py",
   "mimetype": "text/x-python",
   "name": "python",
   "nbconvert_exporter": "python",
   "pygments_lexer": "ipython3",
   "version": "3.10.12"
  }
 },
 "nbformat": 4,
 "nbformat_minor": 2
}
