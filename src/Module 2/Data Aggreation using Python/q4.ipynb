{
 "cells": [
  {
   "cell_type": "markdown",
   "metadata": {},
   "source": [
    "Title: Hands-on: Real-World Data Aggregation<br>\n",
    "Objective: Apply learned concepts to real-world data scenarios"
   ]
  },
  {
   "cell_type": "markdown",
   "metadata": {},
   "source": [
    "Task 1: Analyzing Sales by Region<br>\n",
    "\n",
    "Task: Use a real-world sales dataset to calculate yearly sales trends by region.<br>\n",
    " Steps:<br>\n",
    " 28. Acquire a dataset containing columns such as 'date', 'region', and 'sales'.<br>\n",
    " 29. Extract the year from the 'date' column.<br>\n",
    " 30. Group by 'year' and 'region' to apply the sum aggregation on 'sales'"
   ]
  },
  {
   "cell_type": "code",
   "execution_count": 1,
   "metadata": {},
   "outputs": [
    {
     "name": "stdout",
     "output_type": "stream",
     "text": [
      "Yearly Sales Trends by Region:\n",
      "year  region\n",
      "2021  North     100\n",
      "      South     200\n",
      "2022  North     150\n",
      "      South     300\n",
      "2023  North     250\n",
      "Name: sales, dtype: int64\n"
     ]
    }
   ],
   "source": [
    "import pandas as pd\n",
    "\n",
    "# Sample dataset (replace this with actual data loading if available)\n",
    "data = {\n",
    "    'date': ['2021-01-01', '2021-02-01', '2022-01-01', '2022-02-01', '2023-01-01'],\n",
    "        'region': ['North', 'South', 'North', 'South', 'North'],\n",
    "            'sales': [100, 200, 150, 300, 250]\n",
    "            }\n",
    "df = pd.DataFrame(data)\n",
    "\n",
    "# Step 29: Extract the year from the 'date' column\n",
    "df['year'] = pd.to_datetime(df['date']).dt.year\n",
    "\n",
    "# Step 30: Group by 'year' and 'region' and calculate total sales per region per year\n",
    "sales_by_region_year = df.groupby(['year', 'region'])['sales'].sum()\n",
    "\n",
    "# Display the result\n",
    "print(\"Yearly Sales Trends by Region:\")\n",
    "print(sales_by_region_year)"
   ]
  },
  {
   "cell_type": "markdown",
   "metadata": {},
   "source": [
    "Task 2: Customer Purchase Patterns<br>\n",
    "\n",
    "Task: Find the top 5 customers by the total amount spent using a purchases dataset.<br>\n",
    " Steps:<br>\n",
    " 31. Load a dataset with 'customer_id' and 'amount_spent'.<br>\n",
    " 32. Group by 'customer_id'.<br>\n",
    " 33. Use .sum() on 'amount_spent' and sort values"
   ]
  },
  {
   "cell_type": "code",
   "execution_count": 2,
   "metadata": {},
   "outputs": [
    {
     "name": "stdout",
     "output_type": "stream",
     "text": [
      "Top 5 Customers by Total Amount Spent:\n",
      "customer_id\n",
      "5    400\n",
      "3    300\n",
      "1    250\n",
      "2    250\n",
      "4    250\n",
      "Name: amount_spent, dtype: int64\n"
     ]
    }
   ],
   "source": [
    "import pandas as pd\n",
    "\n",
    "# Sample dataset (replace this with actual data loading if available)\n",
    "data = {\n",
    "    'customer_id': [1, 2, 1, 3, 4, 2, 5],\n",
    "        'amount_spent': [100, 200, 150, 300, 250, 50, 400]\n",
    "        }\n",
    "df = pd.DataFrame(data)\n",
    "\n",
    "# Step 32: Group by 'customer_id' and calculate total amount spent\n",
    "total_spent_by_customer = df.groupby('customer_id')['amount_spent'].sum()\n",
    "\n",
    "# Step 33: Sort values in descending order and get the top 5 customers\n",
    "top_5_customers = total_spent_by_customer.sort_values(ascending=False).head(5)\n",
    "\n",
    "# Display the result\n",
    "print(\"Top 5 Customers by Total Amount Spent:\")\n",
    "print(top_5_customers)"
   ]
  },
  {
   "cell_type": "markdown",
   "metadata": {},
   "source": [
    " Task 3: Seasonality Analysis<br>\n",
    "\n",
    " Task: Determine which months have the highest and lowest sales for a retail dataset.<br>\n",
    " Steps:<br>\n",
    " 34. Use a dataset with 'transaction_date' and 'sales'.<br>\n",
    " 35. Extract the month from 'transaction_date'.<br>\n",
    " 36. Group by 'month' and sum 'sales', then sort to find extremes"
   ]
  },
  {
   "cell_type": "code",
   "execution_count": 3,
   "metadata": {},
   "outputs": [
    {
     "name": "stdout",
     "output_type": "stream",
     "text": [
      "Months with Lowest and Highest Sales:\n",
      "Month with Lowest Sales: 2 with 200 sales\n",
      "Month with Highest Sales: 1 with 400 sales\n"
     ]
    }
   ],
   "source": [
    "import pandas as pd\n",
    "\n",
    "# Sample dataset (replace this with actual data loading if available)\n",
    "data = {\n",
    "    'transaction_date': ['2021-01-15', '2021-02-20', '2021-03-10', '2021-01-30', '2021-03-15'],\n",
    "        'sales': [100, 200, 150, 300, 250]\n",
    "        }\n",
    "df = pd.DataFrame(data)\n",
    "\n",
    "# Step 35: Extract the month from 'transaction_date'\n",
    "df['month'] = pd.to_datetime(df['transaction_date']).dt.month\n",
    "\n",
    "# Step 36: Group by 'month' and calculate total sales per month\n",
    "monthly_sales = df.groupby('month')['sales'].sum()\n",
    "\n",
    "# Sort to find the months with highest and lowest sales\n",
    "sorted_sales = monthly_sales.sort_values()\n",
    "\n",
    "# Display the result\n",
    "print(\"Months with Lowest and Highest Sales:\")\n",
    "print(f\"Month with Lowest Sales: {sorted_sales.idxmin()} with {sorted_sales.min()} sales\")\n",
    "print(f\"Month with Highest Sales: {sorted_sales.idxmax()} with {sorted_sales.max()} sales\")"
   ]
  }
 ],
 "metadata": {
  "kernelspec": {
   "display_name": "Python 3",
   "language": "python",
   "name": "python3"
  },
  "language_info": {
   "codemirror_mode": {
    "name": "ipython",
    "version": 3
   },
   "file_extension": ".py",
   "mimetype": "text/x-python",
   "name": "python",
   "nbconvert_exporter": "python",
   "pygments_lexer": "ipython3",
   "version": "3.10.12"
  }
 },
 "nbformat": 4,
 "nbformat_minor": 2
}
