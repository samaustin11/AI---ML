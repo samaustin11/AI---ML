{
 "cells": [
  {
   "cell_type": "markdown",
   "metadata": {},
   "source": [
    "Title: Introduction to Data Aggregation\n",
    "<br>\n",
    "Objective: Understand the basic concepts of data aggregation and practice simple aggregation methods."
   ]
  },
  {
   "cell_type": "markdown",
   "metadata": {},
   "source": [
    "Task 1: Calculating Sum\n",
    "<br>\n",
    "Task: Use a numerical dataset containing columns like 'sales', 'profit', and 'quantity'.\n",
    "Calculate the total sales for the dataset.\n",
    "<br>\n",
    "Steps:<br>\n",
    "1. Load the dataset using pandas.<br>\n",
    "2. Apply the .sum() function on the 'sales' column.<br>\n",
    "3. Verify the result by manually summing a portion of the 'sales' values."
   ]
  },
  {
   "cell_type": "code",
   "execution_count": 1,
   "metadata": {},
   "outputs": [
    {
     "name": "stdout",
     "output_type": "stream",
     "text": [
      "Total Sales: 1000\n",
      "Manually Calculated Sum of Sales (first 3 rows): 450\n"
     ]
    }
   ],
   "source": [
    "import pandas as pd\n",
    "\n",
    "# Sample dataset (replace this with actual data loading if available)\n",
    "data = {\n",
    "    'sales': [100, 200, 150, 300, 250],\n",
    "    'profit': [10, 20, 15, 30, 25],\n",
    "    'quantity': [1, 2, 1, 3, 2]\n",
    "}\n",
    "\n",
    "df = pd.DataFrame(data)\n",
    "\n",
    "# Step 2: Calculate the total sales\n",
    "total_sales = df['sales'].sum()\n",
    "print(\"Total Sales:\", total_sales)\n",
    "\n",
    "# Step 3: Manually sum a portion of the sales values (e.g., first 3 rows)\n",
    "manual_sum = sum(df['sales'][:3])\n",
    "print(\"Manually Calculated Sum of Sales (first 3 rows):\", manual_sum)\n"
   ]
  },
  {
   "cell_type": "code",
   "execution_count": 2,
   "metadata": {},
   "outputs": [
    {
     "name": "stdout",
     "output_type": "stream",
     "text": [
      "Average Quantity Sold: 1.8\n",
      "Manually Calculated Mean of Quantity (first 3 rows): 1.3333333333333333\n"
     ]
    }
   ],
   "source": [
    "import pandas as pd\n",
    "\n",
    "# Sample dataset (replace this with actual data loading if available)\n",
    "data = {\n",
    "    'sales': [100, 200, 150, 300, 250],\n",
    "    'profit': [10, 20, 15, 30, 25],\n",
    "    'quantity': [1, 2, 1, 3, 2]\n",
    "}\n",
    "df = pd.DataFrame(data)\n",
    "\n",
    "# Step 5: Calculate the average quantity\n",
    "average_quantity = df['quantity'].mean()\n",
    "print(\"Average Quantity Sold:\", average_quantity)\n",
    "\n",
    "# Step 6: Manually calculate the mean of the first 3 rows of the quantity column\n",
    "manual_mean = sum(df['quantity'][:3]) / 3\n",
    "print(\"Manually Calculated Mean of Quantity (first 3 rows):\", manual_mean)"
   ]
  },
  {
   "cell_type": "markdown",
   "metadata": {},
   "source": [
    "Task 2: Calculating Mean<br>\n",
    "\n",
    "Task: Calculate the average quantity sold.<br>\n",
    "Steps:<br>\n",
    "4. Load the dataset.<br>\n",
    "5. Use the .mean() function on the 'quantity' column to find the average.<br>\n",
    "6. Double-check by calculating the mean manually on a small selection."
   ]
  }
 ],
 "metadata": {
  "kernelspec": {
   "display_name": "Python 3",
   "language": "python",
   "name": "python3"
  },
  "language_info": {
   "codemirror_mode": {
    "name": "ipython",
    "version": 3
   },
   "file_extension": ".py",
   "mimetype": "text/x-python",
   "name": "python",
   "nbconvert_exporter": "python",
   "pygments_lexer": "ipython3",
   "version": "3.10.12"
  }
 },
 "nbformat": 4,
 "nbformat_minor": 2
}
