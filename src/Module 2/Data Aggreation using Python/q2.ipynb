{
 "cells": [
  {
   "cell_type": "markdown",
   "metadata": {},
   "source": [
    "Title: Grouping & Aggregating Data using Pandas<br>\n",
    "Objective: Learn how to group data and perform aggregations on these groups."
   ]
  },
  {
   "cell_type": "markdown",
   "metadata": {},
   "source": [
    "Task 1: Grouping by a Single Column<br>\n",
    "\n",
    "Task: Group the dataset by 'region' and calculate total sales per region.<br>\n",
    "Steps:<br>\n",
    "10. Load the dataset.<br>\n",
    "11. Use groupby('region') on the DataFrame.<br>\n",
    "12. Apply .sum() to the 'sales' column."
   ]
  },
  {
   "cell_type": "code",
   "execution_count": 1,
   "metadata": {},
   "outputs": [
    {
     "name": "stdout",
     "output_type": "stream",
     "text": [
      "Total Sales Per Region:\n",
      "region\n",
      "East     150\n",
      "North    350\n",
      "South    200\n",
      "West     300\n",
      "Name: sales, dtype: int64\n"
     ]
    }
   ],
   "source": [
    "import pandas as pd\n",
    "\n",
    "# Sample dataset (replace this with actual data loading if available)\n",
    "data = {\n",
    "    'region': ['North', 'South', 'East', 'West', 'North'],\n",
    "        'sales': [100, 200, 150, 300, 250],\n",
    "        'profit': [10, 20, 15, 30, 25],\n",
    "        'quantity': [1, 2, 1, 3, 2]\n",
    "}\n",
    "df = pd.DataFrame(data)\n",
    "\n",
    "# Step 11: Group by 'region' and calculate total sales per region\n",
    "sales_per_region = df.groupby('region')['sales'].sum()\n",
    "print(\"Total Sales Per Region:\")\n",
    "print(sales_per_region)"
   ]
  },
  {
   "cell_type": "markdown",
   "metadata": {},
   "source": [
    "Task 2: Grouping by Multiple Columns<br>\n",
    "\n",
    "Task: Group the dataset by 'region' and 'category', then find the average sales.<br>\n",
    "Steps:<br>\n",
    "13. Group by ['region', 'category'].<br>\n",
    "14. Use .mean() on the 'sales' column.<br>\n",
    "15. Examine the resulting DataFrame structure."
   ]
  },
  {
   "cell_type": "code",
   "execution_count": 2,
   "metadata": {},
   "outputs": [
    {
     "name": "stdout",
     "output_type": "stream",
     "text": [
      "Average Sales by Region and Category:\n",
      "region  category\n",
      "East    A           150.0\n",
      "North   A           175.0\n",
      "South   B           200.0\n",
      "West    B           300.0\n",
      "Name: sales, dtype: float64\n"
     ]
    }
   ],
   "source": [
    "import pandas as pd\n",
    "\n",
    "# Sample dataset (replace this with actual data loading if available)\n",
    "data = {\n",
    "    'region': ['North', 'South', 'East', 'West', 'North'],\n",
    "        'category': ['A', 'B', 'A', 'B', 'A'],\n",
    "            'sales': [100, 200, 150, 300, 250],\n",
    "                'profit': [10, 20, 15, 30, 25],\n",
    "                    'quantity': [1, 2, 1, 3, 2]\n",
    "}\n",
    "df = pd.DataFrame(data)\n",
    "\n",
    "# Step 13: Group by 'region' and 'category' and calculate average sales\n",
    "average_sales = df.groupby(['region', 'category'])['sales'].mean()\n",
    "\n",
    "# Step 15: Examine the resulting DataFrame structure\n",
    "print(\"Average Sales by Region and Category:\")\n",
    "print(average_sales)\n",
    "\n",
    "\n",
    "\n",
    "\n",
    "\n"
   ]
  },
  {
   "cell_type": "markdown",
   "metadata": {},
   "source": [
    "Task 3: Aggregating Multiple Functions<br>\n",
    "\n",
    "Task: Group data by 'category' and apply multiple aggregation functions (sum and count) on 'quantity'.<br>\n",
    "Steps:<br>\n",
    "16. Group by 'category'.<br>\n",
    "17. Use .agg(['sum', 'count']) on 'quantity'.<br>\n",
    "18. Analyze the result to understand how multiple aggregations work."
   ]
  },
  {
   "cell_type": "code",
   "execution_count": 3,
   "metadata": {},
   "outputs": [
    {
     "name": "stdout",
     "output_type": "stream",
     "text": [
      "Aggregated Quantity by Category (sum and count):\n",
      "          sum  count\n",
      "category            \n",
      "A           4      3\n",
      "B           5      2\n"
     ]
    }
   ],
   "source": [
    "import pandas as pd\n",
    "\n",
    "# Sample dataset (replace this with actual data loading if available)\n",
    "data = {\n",
    "    'category': ['A', 'B', 'A', 'B', 'A'],\n",
    "    'sales': [100, 200, 150, 300, 250],\n",
    "    'profit': [10, 20, 15, 30, 25],\n",
    "    'quantity': [1, 2, 1, 3, 2]\n",
    "}\n",
    "df = pd.DataFrame(data)\n",
    "\n",
    "# Step 16: Group by 'category' and apply multiple aggregation functions on 'quantity'\n",
    "quantity_agg = df.groupby('category')['quantity'].agg(['sum', 'count'])\n",
    "\n",
    "# Step 18: Analyze the result to understand how multiple aggregations work\n",
    "print(\"Aggregated Quantity by Category (sum and count):\")\n",
    "print(quantity_agg)\n"
   ]
  }
 ],
 "metadata": {
  "kernelspec": {
   "display_name": "Python 3",
   "language": "python",
   "name": "python3"
  },
  "language_info": {
   "codemirror_mode": {
    "name": "ipython",
    "version": 3
   },
   "file_extension": ".py",
   "mimetype": "text/x-python",
   "name": "python",
   "nbconvert_exporter": "python",
   "pygments_lexer": "ipython3",
   "version": "3.10.12"
  }
 },
 "nbformat": 4,
 "nbformat_minor": 2
}
