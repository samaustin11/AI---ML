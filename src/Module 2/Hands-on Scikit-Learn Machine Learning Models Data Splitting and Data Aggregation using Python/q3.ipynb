{
 "cells": [
  {
   "cell_type": "code",
   "execution_count": 1,
   "metadata": {},
   "outputs": [],
   "source": [
    "# Question 3: Advanced Model Evaluation with Feature Selection for House Prices\n",
    "\n",
    "# Step 1: Load a house prices dataset from CSV (Assume you have a house_prices.csv ).\n",
    "# Step 2: Apply feature selection and create a train-test split.\n",
    "# Step 3: Train a Lasso Regression model.\n",
    "# Step 4: Perform model evaluation and hyperparameter tuning using GridSearchCV."
   ]
  },
  {
   "cell_type": "code",
   "execution_count": 1,
   "metadata": {},
   "outputs": [
    {
     "name": "stderr",
     "output_type": "stream",
     "text": [
      "/home/vscode/.local/lib/python3.10/site-packages/sklearn/utils/validation.py:2732: UserWarning: X has feature names, but SelectFromModel was fitted without feature names\n",
      "  warnings.warn(\n",
      "/home/vscode/.local/lib/python3.10/site-packages/sklearn/utils/validation.py:2732: UserWarning: X has feature names, but SelectFromModel was fitted without feature names\n",
      "  warnings.warn(\n"
     ]
    },
    {
     "name": "stdout",
     "output_type": "stream",
     "text": [
      "Best Hyperparameters:  {'lasso__alpha': 10.0}\n",
      "Mean Squared Error: 16255036564.595068\n",
      "R-squared score: -0.012733143468511177\n"
     ]
    }
   ],
   "source": [
    "import pandas as pd\n",
    "import numpy as np\n",
    "from sklearn.model_selection import train_test_split, GridSearchCV\n",
    "from sklearn.linear_model import Lasso\n",
    "from sklearn.feature_selection import SelectFromModel\n",
    "from sklearn.preprocessing import StandardScaler\n",
    "from sklearn.pipeline import Pipeline\n",
    "from sklearn.metrics import mean_squared_error\n",
    "\n",
    "# Step 1: Create synthetic house prices dataset (assuming 'house_prices.csv')\n",
    "np.random.seed(42)\n",
    "\n",
    "# Generating synthetic features for house prices\n",
    "n_samples = 1000\n",
    "X = pd.DataFrame({\n",
    "    'LotArea': np.random.randint(1000, 20000, n_samples),  # Lot Area\n",
    "        'OverallQual': np.random.randint(1, 10, n_samples),     # Overall Quality (rating 1-10)\n",
    "            'GrLivArea': np.random.randint(500, 5000, n_samples),   # Ground Living Area\n",
    "                'GarageCars': np.random.randint(1, 5, n_samples),      # Number of Cars in Garage\n",
    "                    'TotRmsAbvGrd': np.random.randint(5, 20, n_samples),   # Total Rooms Above Grade\n",
    "                        'YearBuilt': np.random.randint(1900, 2020, n_samples)  # Year Built\n",
    "                        })\n",
    "# Generating synthetic target variable (House Price)\n",
    "y = np.random.uniform(50000, 500000, n_samples)\n",
    "\n",
    "# Step 2: Train-test split\n",
    "X_train, X_test, y_train, y_test = train_test_split(X, y, test_size=0.2, random_state=42)\n",
    "\n",
    "# Step 3: Train a Lasso Regression model\n",
    "# Pipeline for preprocessing and model fitting\n",
    "pipeline = Pipeline(steps=[\n",
    "    ('scaler', StandardScaler()),            # Standard scaling of data\n",
    "        ('lasso', Lasso())                       # Lasso regression model\n",
    "        ])\n",
    "# Step 4: Feature selection using Lasso (Lasso inherently performs feature selection)\n",
    "# Fit the model to select important features based on the coefficients\n",
    "lasso = Lasso(alpha=0.01)\n",
    "lasso.fit(X_train, y_train)\n",
    "\n",
    "# Select features based on non-zero coefficients\n",
    "selector = SelectFromModel(lasso, threshold=\"mean\", max_features=5)\n",
    "X_train_selected = selector.transform(X_train)\n",
    "X_test_selected = selector.transform(X_test)\n",
    "\n",
    "# Step 5: Hyperparameter tuning with GridSearchCV\n",
    "# Define the parameter grid for Lasso\n",
    "param_grid = {\n",
    "    'lasso__alpha': [0.001, 0.01, 0.1, 1.0, 10.0],\n",
    "    }\n",
    "# GridSearchCV to find the best hyperparameters\n",
    "grid_search = GridSearchCV(pipeline, param_grid, cv=5, n_jobs=-1)\n",
    "grid_search.fit(X_train_selected, y_train)\n",
    "\n",
    "# Best hyperparameters found\n",
    "print(\"Best Hyperparameters: \", grid_search.best_params_)\n",
    "\n",
    "# Step 6: Model evaluation\n",
    "# Predict on the test set with the best model\n",
    "best_model = grid_search.best_estimator_\n",
    "y_pred = best_model.predict(X_test_selected)\n",
    "\n",
    "# Calculate the Mean Squared Error\n",
    "mse = mean_squared_error(y_test, y_pred)\n",
    "print(f\"Mean Squared Error: {mse}\")\n",
    "\n",
    "# Optionally, evaluate the R-squared score\n",
    "r2_score = best_model.score(X_test_selected, y_test)\n",
    "print(f\"R-squared score: {r2_score}\")"
   ]
  }
 ],
 "metadata": {
  "kernelspec": {
   "display_name": "Python 3",
   "language": "python",
   "name": "python3"
  },
  "language_info": {
   "codemirror_mode": {
    "name": "ipython",
    "version": 3
   },
   "file_extension": ".py",
   "mimetype": "text/x-python",
   "name": "python",
   "nbconvert_exporter": "python",
   "pygments_lexer": "ipython3",
   "version": "3.10.12"
  }
 },
 "nbformat": 4,
 "nbformat_minor": 2
}
