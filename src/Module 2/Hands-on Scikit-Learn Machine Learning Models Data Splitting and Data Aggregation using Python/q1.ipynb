{
 "cells": [
  {
   "cell_type": "code",
   "execution_count": 1,
   "metadata": {},
   "outputs": [],
   "source": [
    "# Question 1: Load & Explore the Credit Card Fraud Detection Dataset\n",
    "\n",
    "# Step 1: Load the dataset from a CSV (Assume you have a file named creditcard.csv ).\n",
    "# Step 2: Split the data.\n",
    "# Step 3: Train a Logistic Regression model.\n",
    "# Step 4: Evaluate using ROC AUC score.\n"
   ]
  },
  {
   "cell_type": "code",
   "execution_count": 2,
   "metadata": {},
   "outputs": [
    {
     "name": "stdout",
     "output_type": "stream",
     "text": [
      "ROC AUC Score: 0.5116185897435898\n"
     ]
    }
   ],
   "source": [
    "import pandas as pd\n",
    "import numpy as np\n",
    "from sklearn.model_selection import train_test_split\n",
    "from sklearn.linear_model import LogisticRegression\n",
    "from sklearn.metrics import roc_auc_score\n",
    "\n",
    "# Step 1: Create a synthetic dataset (Assuming the 'creditcard.csv' structure)\n",
    "np.random.seed(42)\n",
    "n_samples = 1000\n",
    "n_features = 30\n",
    "\n",
    "# Generate synthetic features\n",
    "X = np.random.randn(n_samples, n_features)\n",
    "\n",
    "# Generate a synthetic binary target variable (0 or 1)\n",
    "y = np.random.choice([0, 1], size=n_samples)\n",
    "\n",
    "# Step 2: Split the data into features (X) and target (y)\n",
    "# In this case, X and y are already defined\n",
    "\n",
    "# Split into training and testing sets\n",
    "X_train, X_test, y_train, y_test = train_test_split(X, y, test_size=0.3, random_state=42)\n",
    "\n",
    "# Step 3: Train a Logistic Regression model\n",
    "model = LogisticRegression(max_iter=1000)\n",
    "model.fit(X_train, y_train)\n",
    "\n",
    "# Step 4: Evaluate using ROC AUC score\n",
    "y_pred_prob = model.predict_proba(X_test)[:, 1]  # Get probabilities for the positive class\n",
    "roc_auc = roc_auc_score(y_test, y_pred_prob)\n",
    "\n",
    "# Print the ROC AUC score\n",
    "print(f\"ROC AUC Score: {roc_auc}\")\n"
   ]
  }
 ],
 "metadata": {
  "kernelspec": {
   "display_name": "Python 3",
   "language": "python",
   "name": "python3"
  },
  "language_info": {
   "codemirror_mode": {
    "name": "ipython",
    "version": 3
   },
   "file_extension": ".py",
   "mimetype": "text/x-python",
   "name": "python",
   "nbconvert_exporter": "python",
   "pygments_lexer": "ipython3",
   "version": "3.10.12"
  }
 },
 "nbformat": 4,
 "nbformat_minor": 2
}
